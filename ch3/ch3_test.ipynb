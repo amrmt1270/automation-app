{
 "cells": [
  {
   "cell_type": "code",
   "execution_count": 1,
   "id": "1042e3e7",
   "metadata": {},
   "outputs": [],
   "source": [
    "import openpyxl as excel"
   ]
  },
  {
   "cell_type": "code",
   "execution_count": null,
   "id": "cfd60edf",
   "metadata": {},
   "outputs": [],
   "source": [
    "template_file = '/Users/fall_f/Desktop/automation_app/xlsx file/invoice-template.xlsx'\n",
    "save_file = 'invoice01.xlsx'\n",
    "\n",
    "name = '田中一郎'\n",
    "subject = '1月分のご請求'\n",
    "items = [\n",
    "    ['りんご', 5, 320],\n",
    "    ['バナナ', 8, 210],\n",
    "    ['メロン', 1, 1200]\n",
    "]"
   ]
  },
  {
   "cell_type": "code",
   "execution_count": 10,
   "id": "fb7c9af2",
   "metadata": {},
   "outputs": [
    {
     "name": "stderr",
     "output_type": "stream",
     "text": [
      "/opt/anaconda3/lib/python3.11/site-packages/openpyxl/reader/workbook.py:118: UserWarning: Print area cannot be set to Defined name: 請求書!$A:$H.\n",
      "  warn(f\"Print area cannot be set to Defined name: {defn.value}.\")\n"
     ]
    }
   ],
   "source": [
    "book = excel.load_workbook(template_file)\n",
    "sheet = book.active\n",
    "sheet['B4'] = name\n",
    "sheet['C10'] = subject\n",
    "total =0\n",
    "for i, it, in enumerate(items):\n",
    "    summary, count, price = it\n",
    "    subtotal = count * price\n",
    "    total += subtotal\n",
    "    row = 15 + i\n",
    "    sheet.cell(row, 2,summary)\n",
    "    sheet.cell(row, 5, count)\n",
    "    sheet.cell(row, 6, price)\n",
    "    sheet.cell(row, 7, subtotal)\n",
    "sheet['C11'] = total\n",
    "book.save('save_file.xlsx')"
   ]
  },
  {
   "cell_type": "code",
   "execution_count": null,
   "id": "7f551382",
   "metadata": {},
   "outputs": [],
   "source": []
  }
 ],
 "metadata": {
  "kernelspec": {
   "display_name": "base",
   "language": "python",
   "name": "python3"
  },
  "language_info": {
   "codemirror_mode": {
    "name": "ipython",
    "version": 3
   },
   "file_extension": ".py",
   "mimetype": "text/x-python",
   "name": "python",
   "nbconvert_exporter": "python",
   "pygments_lexer": "ipython3",
   "version": "3.11.8"
  }
 },
 "nbformat": 4,
 "nbformat_minor": 5
}
