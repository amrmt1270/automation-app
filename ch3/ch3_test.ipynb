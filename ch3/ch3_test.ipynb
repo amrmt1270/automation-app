{
 "cells": [
  {
   "cell_type": "code",
   "execution_count": 1,
   "id": "1042e3e7",
   "metadata": {},
   "outputs": [],
   "source": [
    "import openpyxl as excel"
   ]
  },
  {
   "cell_type": "code",
   "execution_count": 2,
   "id": "cfd60edf",
   "metadata": {},
   "outputs": [],
   "source": [
    "template_file = '/Users/fall_f/Desktop/automation_app/xlsx file/invoice-template.xlsx'\n",
    "save_file = 'invoice01.xlsx'\n",
    "\n",
    "name = '田中一郎'\n",
    "subject = '1月分のご請求'\n",
    "items = [\n",
    "    ['りんご', 5, 320],\n",
    "    ['バナナ', 8, 210],\n",
    "    ['メロン', 1, 1200]\n",
    "]"
   ]
  },
  {
   "cell_type": "code",
   "execution_count": 3,
   "id": "fb7c9af2",
   "metadata": {},
   "outputs": [
    {
     "name": "stderr",
     "output_type": "stream",
     "text": [
      "/opt/anaconda3/lib/python3.11/site-packages/openpyxl/reader/workbook.py:118: UserWarning: Print area cannot be set to Defined name: 請求書!$A:$H.\n",
      "  warn(f\"Print area cannot be set to Defined name: {defn.value}.\")\n"
     ]
    }
   ],
   "source": [
    "book = excel.load_workbook(template_file)\n",
    "sheet = book.active\n",
    "sheet['B4'] = name\n",
    "sheet['C10'] = subject\n",
    "total =0\n",
    "for i, it, in enumerate(items):\n",
    "    summary, count, price = it\n",
    "    subtotal = count * price\n",
    "    total += subtotal\n",
    "    row = 15 + i\n",
    "    sheet.cell(row, 2,summary)\n",
    "    sheet.cell(row, 5, count)\n",
    "    sheet.cell(row, 6, price)\n",
    "    sheet.cell(row, 7, subtotal)\n",
    "sheet['C11'] = total\n",
    "book.save('save_file.xlsx')"
   ]
  },
  {
   "cell_type": "code",
   "execution_count": 1,
   "id": "7f551382",
   "metadata": {},
   "outputs": [
    {
     "name": "stdout",
     "output_type": "stream",
     "text": [
      "['save_file.xlsx']\n"
     ]
    }
   ],
   "source": [
    "import glob\n",
    "files = glob.glob('*.xlsx')\n",
    "print(files)"
   ]
  },
  {
   "cell_type": "code",
   "execution_count": 10,
   "id": "3fda42b7",
   "metadata": {},
   "outputs": [
    {
     "name": "stdout",
     "output_type": "stream",
     "text": [
      "read :./salesbooks/sales-tanaka.xlsx\n",
      "[datetime.datetime(2020, 3, 3, 0, 0), '上田 祐輝', '豆腐', 4, 1000, 4000]\n",
      "[datetime.datetime(2020, 3, 5, 0, 0), '松山 竜兵', '豆腐', 1, 1000, 1000]\n",
      "[datetime.datetime(2020, 3, 5, 0, 0), '大内 圭人', '湯葉', 1, 2000, 2000]\n",
      "[datetime.datetime(2020, 3, 7, 0, 0), '上田 祐輝', '大豆セット', 2, 2000, 4000]\n",
      "[datetime.datetime(2020, 3, 15, 0, 0), '松山 竜兵', '小豆', 1, 1000, 1000]\n",
      "[datetime.datetime(2020, 3, 16, 0, 0), '大内 圭人', '豆腐', 4, 1000, 4000]\n",
      "[datetime.datetime(2020, 3, 20, 0, 0), '松山 竜兵', '小豆', 5, 1000, 5000]\n",
      "[None, None, None, None, None, None]\n",
      "read :./salesbooks/sales-kakei.xlsx\n",
      "[datetime.datetime(2020, 3, 6, 0, 0), '上田 祐輝', '醤油', 20, 1500, 30000]\n",
      "[datetime.datetime(2020, 3, 11, 0, 0), '松山 竜兵', 'ソース', 2, 1500, 3000]\n",
      "[datetime.datetime(2020, 3, 20, 0, 0), '上田 祐輝', '味噌', 8, 950, 7600]\n",
      "[datetime.datetime(2020, 3, 21, 0, 0), '松山 竜兵', '醤油', 10, 1500, 15000]\n",
      "[None, None, None, None, None, None]\n",
      "read :./salesbooks/sales-ooda.xlsx\n",
      "[datetime.datetime(2020, 3, 6, 0, 0), '鈴木 太郎', 'ミカンゼリー', 20, 1500, 30000]\n",
      "[datetime.datetime(2020, 3, 11, 0, 0), '伊藤 次郎', '桃ゼリー', 2, 1500, 3000]\n",
      "[datetime.datetime(2020, 3, 20, 0, 0), '西川 三郎', 'ミカンゼリー', 8, 950, 7600]\n",
      "[datetime.datetime(2020, 3, 21, 0, 0), '松山 竜兵', '桃ゼリー', 10, 1500, 15000]\n",
      "[None, None, None, None, None, None]\n",
      "read :./salesbooks/sales-yamda.xlsx\n",
      "[datetime.datetime(2020, 3, 3, 0, 0), '鈴木 太郎', 'バナナ', 3, 1000, 3000]\n",
      "[datetime.datetime(2020, 3, 5, 0, 0), '伊藤 次郎', 'リンゴ', 2, 1500, 3000]\n",
      "[datetime.datetime(2020, 3, 5, 0, 0), '西川 三郎', 'イチゴ', 2, 2000, 4000]\n",
      "[datetime.datetime(2020, 3, 7, 0, 0), '山田 史朗', 'バナナ', 8, 1000, 8000]\n",
      "[datetime.datetime(2020, 3, 15, 0, 0), '伊藤 次郎', 'リンゴ', 2, 1500, 3000]\n",
      "[datetime.datetime(2020, 3, 16, 0, 0), '山田 史朗', 'イチゴ', 5, 2000, 10000]\n",
      "[datetime.datetime(2020, 3, 20, 0, 0), '山下 五郎', 'マンゴー', 3, 1900, 5700]\n",
      "[None, None, None, None, None, None]\n",
      "read :./salesbooks/sales-inoue.xlsx\n",
      "[datetime.datetime(2020, 3, 1, 0, 0), '小島 重吉', 'ミカン', 2, 2500, 5000]\n",
      "[datetime.datetime(2020, 3, 2, 0, 0), '伊藤 次郎', 'リンゴ', 1, 1500, 1500]\n",
      "[datetime.datetime(2020, 3, 3, 0, 0), '西川 三郎', 'ミカン', 3, 2500, 7500]\n",
      "[datetime.datetime(2020, 3, 15, 0, 0), '山田 史朗', 'ミカン', 4, 2500, 10000]\n",
      "[datetime.datetime(2020, 3, 16, 0, 0), '小島 重吉', 'リンゴ', 2, 1500, 3000]\n",
      "[datetime.datetime(2020, 3, 17, 0, 0), '山田 史朗', 'ブドウ', 2, 3000, 6000]\n",
      "[datetime.datetime(2020, 3, 22, 0, 0), '小島 重吉', 'ブドウ', 2, 3000, 6000]\n",
      "[None, None, None, None, None, None]\n"
     ]
    }
   ],
   "source": [
    "import glob\n",
    "import openpyxl as excel\n",
    "\n",
    "target_dir = './salesbooks'\n",
    "save_file = 'matome2.xlsx'\n",
    "\n",
    "#ファイルの読み込み処理\n",
    "def read_files():\n",
    "    book = excel.Workbook()\n",
    "    main_sheet = book.active\n",
    "    enumfiles(main_sheet)\n",
    "    book.save(save_file)\n",
    "\n",
    "def enumfiles(main_sheet):\n",
    "    files =glob.glob(target_dir + '/*.xlsx')\n",
    "    for fname in files:\n",
    "        read_book(main_sheet,fname)\n",
    "\n",
    "def read_book(main_sheet, fname):\n",
    "    print('read :'  + fname)\n",
    "    book = excel.load_workbook(fname, data_only= True)\n",
    "    sheet = book.active\n",
    "    rows =sheet['A4' : 'F999']\n",
    "    for row in rows:\n",
    "        values = [cell.value for cell in row]\n",
    "        print(values)\n",
    "        if values[0] is None:\n",
    "            break\n",
    "        main_sheet.append(values)\n",
    "\n",
    "if __name__ == '__main__':\n",
    "    read_files()\n"
   ]
  },
  {
   "cell_type": "code",
   "execution_count": 11,
   "id": "87fbe14b",
   "metadata": {},
   "outputs": [
    {
     "name": "stdout",
     "output_type": "stream",
     "text": [
      "[['伊藤', 300], ['伊藤', 600], ['伊藤', 200]]\n",
      "伊藤 1100\n",
      "[['田中', 300], ['田中', 200]]\n",
      "田中 500\n"
     ]
    }
   ],
   "source": [
    "dummy_data = [\n",
    "    ['伊藤', 300],\n",
    "    ['伊藤', 600],\n",
    "    ['伊藤', 200],\n",
    "    ['田中', 300],\n",
    "    ['田中', 200]\n",
    "]\n",
    "\n",
    "users = {}\n",
    "for row in dummy_data:\n",
    "    name, value = row\n",
    "    if name not in users:\n",
    "        users[name] = []\n",
    "    users[name].append(row)\n",
    "\n",
    "for name, rows in users.items():\n",
    "    print(rows)\n",
    "    total = 0\n",
    "    for row in rows :\n",
    "        total += row[1]\n",
    "    print(name, total)\n"
   ]
  },
  {
   "cell_type": "code",
   "execution_count": 17,
   "id": "74769cf4",
   "metadata": {},
   "outputs": [],
   "source": [
    "users  = {}\n",
    "for row in dummy_data:\n",
    "    name , value = row\n",
    "    if name not in users:\n",
    "        users[name] = value\n",
    "    else:\n",
    "        users[name] += value"
   ]
  },
  {
   "cell_type": "code",
   "execution_count": 10,
   "id": "25485e18",
   "metadata": {},
   "outputs": [
    {
     "name": "stdout",
     "output_type": "stream",
     "text": [
      "上田 祐輝 45600\n",
      "松山 竜兵 40000\n",
      "大内 圭人 6000\n",
      "鈴木 太郎 33000\n",
      "伊藤 次郎 10500\n",
      "西川 三郎 19100\n",
      "山田 史朗 34000\n",
      "山下 五郎 5700\n",
      "小島 重吉 14000\n"
     ]
    }
   ],
   "source": [
    "import openpyxl as excel\n",
    "import json\n",
    "from datetime import datetime\n",
    "\n",
    "in_file = '/Users/fall_f/Desktop/automation_app/ch3/matome.xlsx'\n",
    "out_file = 'matome.json'\n",
    "\n",
    "def split_list(in_file):\n",
    "    users = read_and_split(in_file)\n",
    "    result = {}\n",
    "    for name, rows in users.items():\n",
    "        result[name] = calc_users(rows)\n",
    "        print(name, result[name]['total'])\n",
    "\n",
    "    # datetime を含まない result を保存（users ではなく result を保存）\n",
    "    with open(out_file, 'wt', encoding='utf-8') as fp:\n",
    "        json.dump(result, fp, ensure_ascii=False, indent=2)\n",
    "\n",
    "# 顧客ごとにデータを分割\n",
    "def read_and_split(in_file):\n",
    "    users = {}\n",
    "    book = excel.load_workbook(in_file)\n",
    "    sheet = book.active\n",
    "    for row in sheet.iter_rows():\n",
    "        values = [cell.value for cell in row]\n",
    "        name = values[1]\n",
    "        if name is None: break\n",
    "        if name not in users:\n",
    "            users[name] = []\n",
    "        users[name].append(values)\n",
    "    return users\n",
    "\n",
    "def calc_users(rows):\n",
    "    total = 0\n",
    "    items = []\n",
    "    for row in rows:\n",
    "        date, _, item, cnt, price, _ = row\n",
    "        # datetime を文字列に変換（JSON化のため）\n",
    "        date_s = date.strftime('%m/%d') if isinstance(date, datetime) else str(date)\n",
    "        items.append([date_s, item, cnt, price])\n",
    "        total += cnt * price\n",
    "    return {'items': items, 'total': total}\n",
    "\n",
    "if __name__ == '__main__':\n",
    "    split_list(in_file)"
   ]
  },
  {
   "cell_type": "code",
   "execution_count": 14,
   "id": "7d12c0ca",
   "metadata": {},
   "outputs": [
    {
     "name": "stdout",
     "output_type": "stream",
     "text": [
      "保存完了 : ./ch3/上田 祐輝様.xlsx\n",
      "保存完了 : ./ch3/松山 竜兵様.xlsx\n",
      "保存完了 : ./ch3/大内 圭人様.xlsx\n",
      "保存完了 : ./ch3/鈴木 太郎様.xlsx\n",
      "保存完了 : ./ch3/伊藤 次郎様.xlsx\n",
      "保存完了 : ./ch3/西川 三郎様.xlsx\n",
      "保存完了 : ./ch3/山田 史朗様.xlsx\n",
      "保存完了 : ./ch3/山下 五郎様.xlsx\n",
      "保存完了 : ./ch3/小島 重吉様.xlsx\n"
     ]
    },
    {
     "name": "stderr",
     "output_type": "stream",
     "text": [
      "/opt/anaconda3/lib/python3.11/site-packages/openpyxl/reader/workbook.py:118: UserWarning: Print area cannot be set to Defined name: 請求書!$A:$H.\n",
      "  warn(f\"Print area cannot be set to Defined name: {defn.value}.\")\n"
     ]
    }
   ],
   "source": [
    "import os\n",
    "in_file  = 'matome.json'\n",
    "template_file = 'invoice-template.xlsx'\n",
    "subject = '2月分のご請求'\n",
    "out_dir = './ch3'\n",
    "def gen_invoice():\n",
    "    with open(in_file, 'rt') as fp:\n",
    "        users = json.load(fp)\n",
    "    for name , data in users.items():\n",
    "        make_users_invoice(name, data)\n",
    "\n",
    "def make_users_invoice(name, data):\n",
    "    book = excel.load_workbook(template_file)\n",
    "    sheet = book.active\n",
    "\n",
    "    sheet['B4'] = name\n",
    "    sheet['C10'] = subject\n",
    "    sheet['C11'] = data['total']\n",
    "\n",
    "    for i, it in enumerate(data['items']):\n",
    "        date, summary, cnt, price = it\n",
    "        row = 15 + i\n",
    "        sheet.cell(row, 2, f\"{summary} ({date})\")\n",
    "        sheet.cell(row, 5, cnt)\n",
    "        sheet.cell(row, 6, price)\n",
    "        sheet.cell(row, 7, cnt * price)\n",
    "\n",
    "    # 🔧 ディレクトリを作成（なければ）\n",
    "    os.makedirs(out_dir, exist_ok=True)\n",
    "\n",
    "    out_file = f\"{out_dir}/{name}様.xlsx\"\n",
    "    book.save(out_file)\n",
    "    print('保存完了 : ' + out_file)\n",
    "\n",
    "if __name__ == '__main__':\n",
    "    gen_invoice()"
   ]
  },
  {
   "cell_type": "code",
   "execution_count": 15,
   "id": "e0849e24",
   "metadata": {},
   "outputs": [
    {
     "name": "stderr",
     "output_type": "stream",
     "text": [
      "/opt/anaconda3/lib/python3.11/site-packages/openpyxl/reader/workbook.py:118: UserWarning: Print area cannot be set to Defined name: '3月'!$A:$C.\n",
      "  warn(f\"Print area cannot be set to Defined name: {defn.value}.\")\n"
     ]
    },
    {
     "data": {
      "text/plain": [
       "datetime.datetime(2020, 3, 3, 0, 0)"
      ]
     },
     "execution_count": 15,
     "metadata": {},
     "output_type": "execute_result"
    }
   ],
   "source": [
    "import openpyxl as excel\n",
    "book = excel.load_workbook('/Users/fall_f/Desktop/automation_app/ch3/date-sample.xlsx')\n",
    "sheet = book.active\n",
    "sheet['A4'].number_format\n",
    "sheet['A4'].value"
   ]
  },
  {
   "cell_type": "code",
   "execution_count": 18,
   "id": "dd3125e4",
   "metadata": {},
   "outputs": [],
   "source": [
    "import openpyxl as excel\n",
    "import datetime\n",
    "\n",
    "in_file = 'date-sample.xlsx'\n",
    "out_file = 'date_wareki.xlsx'\n",
    "cell_format = '[$-ja-JP]ggge\"年\"m\"月\"d\"日\"'\n",
    "\n",
    "def date_wareki(in_file, out_file):\n",
    "    book = excel.load_workbook(in_file)\n",
    "    sheet = book.active\n",
    "    for sheet in book.worksheets:\n",
    "        for row in sheet.iter_rows():\n",
    "            for cell in row:\n",
    "                check_cell(cell)\n",
    "    book.save(out_file)\n",
    "\n",
    "def check_cell(cell):\n",
    "    if type(cell.value) is datetime.datetime :\n",
    "        cell.number_format = cell_format\n",
    "\n",
    "if __name__ == '__main__':\n",
    "    date_wareki(in_file, out_file)"
   ]
  },
  {
   "cell_type": "code",
   "execution_count": 23,
   "id": "a0420e00",
   "metadata": {},
   "outputs": [],
   "source": [
    "import openpyxl as excel \n",
    "from openpyxl.styles import PatternFill\n",
    "import datetime\n",
    "\n",
    "in_file = 'date-sample.xlsx'\n",
    "out_file = 'date-mark_olditems.xlsx'\n",
    "limit = datetime.datetime(2020, 1,1)\n",
    "\n",
    "def date_mark(in_file, out_file):\n",
    "    book = excel.load_workbook(in_file)\n",
    "    for sheet in book.worksheets:\n",
    "        for row in sheet.iter_rows(min_row=4):\n",
    "            check_row(row)\n",
    "    book.save(out_file)\n",
    "\n",
    "def check_row(row):\n",
    "    date = row[0].value\n",
    "    if type(date) is not datetime.datetime:\n",
    "        return\n",
    "    \n",
    "    if date < limit:\n",
    "        red = PatternFill(\n",
    "            fill_type = 'solid',\n",
    "            fgColor = 'ff0000'\n",
    "        )\n",
    "        for cell in row:\n",
    "            cell.fill = red\n",
    "    \n",
    "if __name__ == '__main__' :\n",
    "    date_mark(in_file, out_file)\n"
   ]
  },
  {
   "cell_type": "code",
   "execution_count": 28,
   "id": "bc341bf6",
   "metadata": {},
   "outputs": [],
   "source": [
    "import openpyxl as excel\n",
    "\n",
    "in_file = 'name2.xlsx'\n",
    "out_file = 'seimei1.xlsx'\n",
    "\n",
    "in_book = excel.load_workbook(in_file)\n",
    "in_sheet = in_book.active\n",
    "\n",
    "out_book = excel.Workbook()\n",
    "out_sheet = out_book.active\n",
    "\n",
    "for row in in_sheet.iter_rows():\n",
    "    sei = row[0].value\n",
    "    nam = row[1].value\n",
    "    seimei = sei + nam\n",
    "    out_sheet.append([seimei])\n",
    "\n",
    "out_book.save(out_file)\n"
   ]
  },
  {
   "cell_type": "code",
   "execution_count": 1,
   "id": "5ff49e19",
   "metadata": {},
   "outputs": [],
   "source": [
    "import docx\n",
    "doc = docx.Document('letter.docx')"
   ]
  },
  {
   "cell_type": "code",
   "execution_count": 2,
   "id": "ef46a22e",
   "metadata": {},
   "outputs": [
    {
     "name": "stdout",
     "output_type": "stream",
     "text": [
      "2021年10月10日\n",
      "●●●御中\n",
      "■■■様\n",
      "〒333-0000\n",
      "東京都新宿区△△△\n",
      "△△△ビル\n",
      "△△凸凹\n",
      "Tel: 03-xxx-xxxx\n",
      "\n",
      "\n",
      "★★★の送付について\n",
      "\n",
      "\n",
      "拝啓　ますますご健勝のことと存じます。平素は格別のご厚情にあずかり心より御礼申し上げます。いつも大変お世話になっております。\n",
      "\n",
      "この度、書類を送付させていただきます。ご多忙の中、恐れ入りますが、どうぞご確認のほど、よろしくお願いします。\n",
      "\n",
      "敬具\n",
      "\n"
     ]
    }
   ],
   "source": [
    "for p in doc.paragraphs:\n",
    "    print(p.text)"
   ]
  },
  {
   "cell_type": "code",
   "execution_count": 5,
   "id": "906805a2",
   "metadata": {},
   "outputs": [],
   "source": [
    "import docx \n",
    "import datetime\n",
    "\n",
    "template_file = 'letter.docx'\n",
    "save_file = 'letter-suzuki.docx'\n",
    "now = datetime.datetime.now()\n",
    "\n",
    "#書き換える内容を指定\n",
    "card = {'2021年10月10日' : now.strftime('%Y年%m月%d日'),\n",
    "        '●●●御中': 'マイナビ出版御御中',\n",
    "        '■■■様':'鈴木様',\n",
    "        '★★★の送付について':'契約書の送付について'}\n",
    "\n",
    "doc = docx.Document(template_file)\n",
    "for p in doc.paragraphs:\n",
    "    for k,v in card.items():\n",
    "        if p.text == k:\n",
    "            p.text = p.text.replace(k,v)\n",
    "\n",
    "doc.save(save_file)"
   ]
  },
  {
   "cell_type": "code",
   "execution_count": 9,
   "id": "38da29a0",
   "metadata": {},
   "outputs": [],
   "source": [
    "import docx \n",
    "import datetime\n",
    "\n",
    "import docx.shared\n",
    "\n",
    "template_file = 'letter.docx'\n",
    "save_file = 'suzuki-2.docx'\n",
    "now = datetime.datetime.now()\n",
    "\n",
    "card = {'2021年10月10日' :now.strftime('%Y年%m月%d日'),\n",
    "        '●●●御中': 'マイナビ出版御中',\n",
    "        '■■■様' : '鈴木様',\n",
    "        '★★★の送付について':'契約書の送付について'\n",
    "        }\n",
    "\n",
    "cstyle = {'★★★の送付について':True}\n",
    "\n",
    "doc = docx.Document(template_file)\n",
    "\n",
    "for p in doc.paragraphs:\n",
    "    for k, v in card.items():\n",
    "        if p.text == k:\n",
    "            p.text = p.text.replace(k, v)\n",
    "            if k in cstyle.keys():\n",
    "                font = p.runs[0].font\n",
    "                font.bold = True\n",
    "                font.underline = True\n",
    "                font.size = docx.shared.Pt(20)\n",
    "\n",
    "doc.save(save_file)"
   ]
  },
  {
   "cell_type": "code",
   "execution_count": 15,
   "id": "018d7031",
   "metadata": {},
   "outputs": [
    {
     "name": "stdout",
     "output_type": "stream",
     "text": [
      "save c:\\Users\\akif3\\Desktop\\AUtomation APP\\automation-app\\events\\松野 厚志様.docx\n",
      "save c:\\Users\\akif3\\Desktop\\AUtomation APP\\automation-app\\events\\奥田 仁様.docx\n",
      "save c:\\Users\\akif3\\Desktop\\AUtomation APP\\automation-app\\events\\坂本 一郎様.docx\n",
      "save c:\\Users\\akif3\\Desktop\\AUtomation APP\\automation-app\\events\\榊原 純一様.docx\n",
      "save c:\\Users\\akif3\\Desktop\\AUtomation APP\\automation-app\\events\\黒田 智一様.docx\n",
      "save c:\\Users\\akif3\\Desktop\\AUtomation APP\\automation-app\\events\\小倉 義男様.docx\n",
      "save c:\\Users\\akif3\\Desktop\\AUtomation APP\\automation-app\\events\\湯浅 良平様.docx\n",
      "save c:\\Users\\akif3\\Desktop\\AUtomation APP\\automation-app\\events\\堀 裕二様.docx\n",
      "save c:\\Users\\akif3\\Desktop\\AUtomation APP\\automation-app\\events\\清水 源太様.docx\n",
      "save c:\\Users\\akif3\\Desktop\\AUtomation APP\\automation-app\\events\\向井 卓哉様.docx\n",
      "save c:\\Users\\akif3\\Desktop\\AUtomation APP\\automation-app\\events\\星 康弘様.docx\n",
      "save c:\\Users\\akif3\\Desktop\\AUtomation APP\\automation-app\\events\\金子 順吉様.docx\n",
      "save c:\\Users\\akif3\\Desktop\\AUtomation APP\\automation-app\\events\\大川 斗真様.docx\n",
      "save c:\\Users\\akif3\\Desktop\\AUtomation APP\\automation-app\\events\\関 晋也様.docx\n",
      "save c:\\Users\\akif3\\Desktop\\AUtomation APP\\automation-app\\events\\平野 豊様.docx\n",
      "save c:\\Users\\akif3\\Desktop\\AUtomation APP\\automation-app\\events\\大西 健介様.docx\n",
      "save c:\\Users\\akif3\\Desktop\\AUtomation APP\\automation-app\\events\\花田 健二様.docx\n",
      "save c:\\Users\\akif3\\Desktop\\AUtomation APP\\automation-app\\events\\神谷 正様.docx\n",
      "save c:\\Users\\akif3\\Desktop\\AUtomation APP\\automation-app\\events\\谷川 隼人様.docx\n"
     ]
    }
   ],
   "source": [
    "import docx \n",
    "import datetime\n",
    "import openpyxl as excel\n",
    "import os\n",
    "\n",
    "in_file = 'meibo.xlsx'\n",
    "template_file = 'template-event.docx'\n",
    "save_dir = os.path.join(os.path.dirname(os.getcwd()),\n",
    "                         'events')\n",
    "\n",
    "if not os.path.exists(save_dir):\n",
    "    os.makedirs(save_dir)\n",
    "\n",
    "def read_book():\n",
    "    result = []\n",
    "    sheet = excel.load_workbook(in_file).active\n",
    "    for row in sheet.iter_rows(min_row=2):\n",
    "        v = [c.value for c in row]\n",
    "        if v[0] is None: break\n",
    "        result.append(v)\n",
    "    return result\n",
    "\n",
    "for person in read_book():\n",
    "    name, zipno, addr = person\n",
    "    card = {'住所：▲▲▲':addr,\n",
    "            '●●様へ' : name + '様へ'}\n",
    "    doc = docx.Document(template_file)\n",
    "    for p in doc.paragraphs:\n",
    "        for k, v in card.items():\n",
    "            if p.text.find(k) >= 0:\n",
    "                p.text = p.text.replace(k, v)\n",
    "                p.runs[0].font.bold = True\n",
    "        \n",
    "    save_file = os.path.join(save_dir,\n",
    "                             name + '様.docx')\n",
    "    print('save' , save_file)\n",
    "    doc.save(save_file)"
   ]
  }
 ],
 "metadata": {
  "kernelspec": {
   "display_name": "base",
   "language": "python",
   "name": "python3"
  },
  "language_info": {
   "codemirror_mode": {
    "name": "ipython",
    "version": 3
   },
   "file_extension": ".py",
   "mimetype": "text/x-python",
   "name": "python",
   "nbconvert_exporter": "python",
   "pygments_lexer": "ipython3",
   "version": "3.12.3"
  }
 },
 "nbformat": 4,
 "nbformat_minor": 5
}
