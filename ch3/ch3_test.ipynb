{
 "cells": [
  {
   "cell_type": "code",
   "execution_count": 1,
   "id": "1042e3e7",
   "metadata": {},
   "outputs": [],
   "source": [
    "import openpyxl as excel"
   ]
  },
  {
   "cell_type": "code",
   "execution_count": 2,
   "id": "cfd60edf",
   "metadata": {},
   "outputs": [],
   "source": [
    "template_file = '/Users/fall_f/Desktop/automation_app/xlsx file/invoice-template.xlsx'\n",
    "save_file = 'invoice01.xlsx'\n",
    "\n",
    "name = '田中一郎'\n",
    "subject = '1月分のご請求'\n",
    "items = [\n",
    "    ['りんご', 5, 320],\n",
    "    ['バナナ', 8, 210],\n",
    "    ['メロン', 1, 1200]\n",
    "]"
   ]
  },
  {
   "cell_type": "code",
   "execution_count": 3,
   "id": "fb7c9af2",
   "metadata": {},
   "outputs": [
    {
     "name": "stderr",
     "output_type": "stream",
     "text": [
      "/opt/anaconda3/lib/python3.11/site-packages/openpyxl/reader/workbook.py:118: UserWarning: Print area cannot be set to Defined name: 請求書!$A:$H.\n",
      "  warn(f\"Print area cannot be set to Defined name: {defn.value}.\")\n"
     ]
    }
   ],
   "source": [
    "book = excel.load_workbook(template_file)\n",
    "sheet = book.active\n",
    "sheet['B4'] = name\n",
    "sheet['C10'] = subject\n",
    "total =0\n",
    "for i, it, in enumerate(items):\n",
    "    summary, count, price = it\n",
    "    subtotal = count * price\n",
    "    total += subtotal\n",
    "    row = 15 + i\n",
    "    sheet.cell(row, 2,summary)\n",
    "    sheet.cell(row, 5, count)\n",
    "    sheet.cell(row, 6, price)\n",
    "    sheet.cell(row, 7, subtotal)\n",
    "sheet['C11'] = total\n",
    "book.save('save_file.xlsx')"
   ]
  },
  {
   "cell_type": "code",
   "execution_count": 1,
   "id": "7f551382",
   "metadata": {},
   "outputs": [
    {
     "name": "stdout",
     "output_type": "stream",
     "text": [
      "['save_file.xlsx']\n"
     ]
    }
   ],
   "source": [
    "import glob\n",
    "files = glob.glob('*.xlsx')\n",
    "print(files)"
   ]
  },
  {
   "cell_type": "code",
   "execution_count": 5,
   "id": "3fda42b7",
   "metadata": {},
   "outputs": [
    {
     "name": "stdout",
     "output_type": "stream",
     "text": [
      "read :./salesbooks/sales-tanaka.xlsx\n",
      "read :./salesbooks/sales-kakei.xlsx\n",
      "read :./salesbooks/sales-ooda.xlsx\n",
      "read :./salesbooks/sales-yamda.xlsx\n",
      "read :./salesbooks/sales-inoue.xlsx\n"
     ]
    }
   ],
   "source": [
    "import glob\n",
    "import openpyxl as excel\n",
    "\n",
    "target_dir = './salesbooks'\n",
    "save_file = 'matome.xlsx'\n",
    "\n",
    "#ファイルの読み込み処理\n",
    "def read_files():\n",
    "    book = excel.Workbook()\n",
    "    main_sheet = book.active\n",
    "    enumfiles(main_sheet)\n",
    "    book.save(save_file)\n",
    "\n",
    "def enumfiles(main_sheet):\n",
    "    files =glob.glob(target_dir + '/*.xlsx')\n",
    "    for fname in files:\n",
    "        read_book(main_sheet,fname)\n",
    "\n",
    "def read_book(main_sheet, fname):\n",
    "    print('read :'  + fname)\n",
    "    book = excel.load_workbook(fname, data_only= True)\n",
    "    sheet = book.active\n",
    "    rows =sheet['A4' : 'F999']\n",
    "    for row in rows:\n",
    "        values = [cell.value for cell in row]\n",
    "        if values[0] is None:\n",
    "            break\n",
    "        main_sheet.append(values)\n",
    "\n",
    "if __name__ == '__main__':\n",
    "    read_files()\n"
   ]
  },
  {
   "cell_type": "code",
   "execution_count": null,
   "id": "d436e04a",
   "metadata": {},
   "outputs": [],
   "source": []
  }
 ],
 "metadata": {
  "kernelspec": {
   "display_name": "base",
   "language": "python",
   "name": "python3"
  },
  "language_info": {
   "codemirror_mode": {
    "name": "ipython",
    "version": 3
   },
   "file_extension": ".py",
   "mimetype": "text/x-python",
   "name": "python",
   "nbconvert_exporter": "python",
   "pygments_lexer": "ipython3",
   "version": "3.11.8"
  }
 },
 "nbformat": 4,
 "nbformat_minor": 5
}
