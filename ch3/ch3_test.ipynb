{
 "cells": [
  {
   "cell_type": "code",
   "execution_count": 1,
   "id": "1042e3e7",
   "metadata": {},
   "outputs": [],
   "source": [
    "import openpyxl as excel"
   ]
  },
  {
   "cell_type": "code",
   "execution_count": 2,
   "id": "cfd60edf",
   "metadata": {},
   "outputs": [],
   "source": [
    "template_file = '/Users/fall_f/Desktop/automation_app/xlsx file/invoice-template.xlsx'\n",
    "save_file = 'invoice01.xlsx'\n",
    "\n",
    "name = '田中一郎'\n",
    "subject = '1月分のご請求'\n",
    "items = [\n",
    "    ['りんご', 5, 320],\n",
    "    ['バナナ', 8, 210],\n",
    "    ['メロン', 1, 1200]\n",
    "]"
   ]
  },
  {
   "cell_type": "code",
   "execution_count": 3,
   "id": "fb7c9af2",
   "metadata": {},
   "outputs": [
    {
     "name": "stderr",
     "output_type": "stream",
     "text": [
      "/opt/anaconda3/lib/python3.11/site-packages/openpyxl/reader/workbook.py:118: UserWarning: Print area cannot be set to Defined name: 請求書!$A:$H.\n",
      "  warn(f\"Print area cannot be set to Defined name: {defn.value}.\")\n"
     ]
    }
   ],
   "source": [
    "book = excel.load_workbook(template_file)\n",
    "sheet = book.active\n",
    "sheet['B4'] = name\n",
    "sheet['C10'] = subject\n",
    "total =0\n",
    "for i, it, in enumerate(items):\n",
    "    summary, count, price = it\n",
    "    subtotal = count * price\n",
    "    total += subtotal\n",
    "    row = 15 + i\n",
    "    sheet.cell(row, 2,summary)\n",
    "    sheet.cell(row, 5, count)\n",
    "    sheet.cell(row, 6, price)\n",
    "    sheet.cell(row, 7, subtotal)\n",
    "sheet['C11'] = total\n",
    "book.save('save_file.xlsx')"
   ]
  },
  {
   "cell_type": "code",
   "execution_count": 1,
   "id": "7f551382",
   "metadata": {},
   "outputs": [
    {
     "name": "stdout",
     "output_type": "stream",
     "text": [
      "['save_file.xlsx']\n"
     ]
    }
   ],
   "source": [
    "import glob\n",
    "files = glob.glob('*.xlsx')\n",
    "print(files)"
   ]
  },
  {
   "cell_type": "code",
   "execution_count": 10,
   "id": "3fda42b7",
   "metadata": {},
   "outputs": [
    {
     "name": "stdout",
     "output_type": "stream",
     "text": [
      "read :./salesbooks/sales-tanaka.xlsx\n",
      "[datetime.datetime(2020, 3, 3, 0, 0), '上田 祐輝', '豆腐', 4, 1000, 4000]\n",
      "[datetime.datetime(2020, 3, 5, 0, 0), '松山 竜兵', '豆腐', 1, 1000, 1000]\n",
      "[datetime.datetime(2020, 3, 5, 0, 0), '大内 圭人', '湯葉', 1, 2000, 2000]\n",
      "[datetime.datetime(2020, 3, 7, 0, 0), '上田 祐輝', '大豆セット', 2, 2000, 4000]\n",
      "[datetime.datetime(2020, 3, 15, 0, 0), '松山 竜兵', '小豆', 1, 1000, 1000]\n",
      "[datetime.datetime(2020, 3, 16, 0, 0), '大内 圭人', '豆腐', 4, 1000, 4000]\n",
      "[datetime.datetime(2020, 3, 20, 0, 0), '松山 竜兵', '小豆', 5, 1000, 5000]\n",
      "[None, None, None, None, None, None]\n",
      "read :./salesbooks/sales-kakei.xlsx\n",
      "[datetime.datetime(2020, 3, 6, 0, 0), '上田 祐輝', '醤油', 20, 1500, 30000]\n",
      "[datetime.datetime(2020, 3, 11, 0, 0), '松山 竜兵', 'ソース', 2, 1500, 3000]\n",
      "[datetime.datetime(2020, 3, 20, 0, 0), '上田 祐輝', '味噌', 8, 950, 7600]\n",
      "[datetime.datetime(2020, 3, 21, 0, 0), '松山 竜兵', '醤油', 10, 1500, 15000]\n",
      "[None, None, None, None, None, None]\n",
      "read :./salesbooks/sales-ooda.xlsx\n",
      "[datetime.datetime(2020, 3, 6, 0, 0), '鈴木 太郎', 'ミカンゼリー', 20, 1500, 30000]\n",
      "[datetime.datetime(2020, 3, 11, 0, 0), '伊藤 次郎', '桃ゼリー', 2, 1500, 3000]\n",
      "[datetime.datetime(2020, 3, 20, 0, 0), '西川 三郎', 'ミカンゼリー', 8, 950, 7600]\n",
      "[datetime.datetime(2020, 3, 21, 0, 0), '松山 竜兵', '桃ゼリー', 10, 1500, 15000]\n",
      "[None, None, None, None, None, None]\n",
      "read :./salesbooks/sales-yamda.xlsx\n",
      "[datetime.datetime(2020, 3, 3, 0, 0), '鈴木 太郎', 'バナナ', 3, 1000, 3000]\n",
      "[datetime.datetime(2020, 3, 5, 0, 0), '伊藤 次郎', 'リンゴ', 2, 1500, 3000]\n",
      "[datetime.datetime(2020, 3, 5, 0, 0), '西川 三郎', 'イチゴ', 2, 2000, 4000]\n",
      "[datetime.datetime(2020, 3, 7, 0, 0), '山田 史朗', 'バナナ', 8, 1000, 8000]\n",
      "[datetime.datetime(2020, 3, 15, 0, 0), '伊藤 次郎', 'リンゴ', 2, 1500, 3000]\n",
      "[datetime.datetime(2020, 3, 16, 0, 0), '山田 史朗', 'イチゴ', 5, 2000, 10000]\n",
      "[datetime.datetime(2020, 3, 20, 0, 0), '山下 五郎', 'マンゴー', 3, 1900, 5700]\n",
      "[None, None, None, None, None, None]\n",
      "read :./salesbooks/sales-inoue.xlsx\n",
      "[datetime.datetime(2020, 3, 1, 0, 0), '小島 重吉', 'ミカン', 2, 2500, 5000]\n",
      "[datetime.datetime(2020, 3, 2, 0, 0), '伊藤 次郎', 'リンゴ', 1, 1500, 1500]\n",
      "[datetime.datetime(2020, 3, 3, 0, 0), '西川 三郎', 'ミカン', 3, 2500, 7500]\n",
      "[datetime.datetime(2020, 3, 15, 0, 0), '山田 史朗', 'ミカン', 4, 2500, 10000]\n",
      "[datetime.datetime(2020, 3, 16, 0, 0), '小島 重吉', 'リンゴ', 2, 1500, 3000]\n",
      "[datetime.datetime(2020, 3, 17, 0, 0), '山田 史朗', 'ブドウ', 2, 3000, 6000]\n",
      "[datetime.datetime(2020, 3, 22, 0, 0), '小島 重吉', 'ブドウ', 2, 3000, 6000]\n",
      "[None, None, None, None, None, None]\n"
     ]
    }
   ],
   "source": [
    "import glob\n",
    "import openpyxl as excel\n",
    "\n",
    "target_dir = './salesbooks'\n",
    "save_file = 'matome2.xlsx'\n",
    "\n",
    "#ファイルの読み込み処理\n",
    "def read_files():\n",
    "    book = excel.Workbook()\n",
    "    main_sheet = book.active\n",
    "    enumfiles(main_sheet)\n",
    "    book.save(save_file)\n",
    "\n",
    "def enumfiles(main_sheet):\n",
    "    files =glob.glob(target_dir + '/*.xlsx')\n",
    "    for fname in files:\n",
    "        read_book(main_sheet,fname)\n",
    "\n",
    "def read_book(main_sheet, fname):\n",
    "    print('read :'  + fname)\n",
    "    book = excel.load_workbook(fname, data_only= True)\n",
    "    sheet = book.active\n",
    "    rows =sheet['A4' : 'F999']\n",
    "    for row in rows:\n",
    "        values = [cell.value for cell in row]\n",
    "        print(values)\n",
    "        if values[0] is None:\n",
    "            break\n",
    "        main_sheet.append(values)\n",
    "\n",
    "if __name__ == '__main__':\n",
    "    read_files()\n"
   ]
  },
  {
   "cell_type": "code",
   "execution_count": 11,
   "id": "87fbe14b",
   "metadata": {},
   "outputs": [
    {
     "name": "stdout",
     "output_type": "stream",
     "text": [
      "[['伊藤', 300], ['伊藤', 600], ['伊藤', 200]]\n",
      "伊藤 1100\n",
      "[['田中', 300], ['田中', 200]]\n",
      "田中 500\n"
     ]
    }
   ],
   "source": [
    "dummy_data = [\n",
    "    ['伊藤', 300],\n",
    "    ['伊藤', 600],\n",
    "    ['伊藤', 200],\n",
    "    ['田中', 300],\n",
    "    ['田中', 200]\n",
    "]\n",
    "\n",
    "users = {}\n",
    "for row in dummy_data:\n",
    "    name, value = row\n",
    "    if name not in users:\n",
    "        users[name] = []\n",
    "    users[name].append(row)\n",
    "\n",
    "for name, rows in users.items():\n",
    "    print(rows)\n",
    "    total = 0\n",
    "    for row in rows :\n",
    "        total += row[1]\n",
    "    print(name, total)\n"
   ]
  },
  {
   "cell_type": "code",
   "execution_count": 17,
   "id": "74769cf4",
   "metadata": {},
   "outputs": [],
   "source": [
    "users  = {}\n",
    "for row in dummy_data:\n",
    "    name , value = row\n",
    "    if name not in users:\n",
    "        users[name] = value\n",
    "    else:\n",
    "        users[name] += value"
   ]
  },
  {
   "cell_type": "code",
   "execution_count": 25,
   "id": "74bd6938",
   "metadata": {},
   "outputs": [],
   "source": [
    "import openpyxl as excel\n",
    "import json\n",
    "in_file = '/Users/fall_f/Desktop/automation_app/ch3/matome.xlsx'\n",
    "out_file = 'matome.json'\n",
    "def split_list(in_file):\n",
    "    users = read_and_split(in_file)\n",
    "    with open ('open_file', 'wt') as fp:\n",
    "        json.dump(users, fp, ensure_ascii=False)\n",
    "\n",
    "\n",
    "#顧客ごとにデータを分割\n",
    "def read_and_split(in_file):\n",
    "    users = {}\n",
    "    book = excel.load_workbook(in_file)\n",
    "    sheet = book.active\n",
    "    for row in range(1,100):\n",
    "        name = sheet.cell(row = row, column = 2).value\n",
    "        if name is None: break\n",
    "        count = sheet.cell(row = row, column = 6).value\n",
    "        if name not in users :\n",
    "            users[name] = count\n",
    "        else:\n",
    "            users[name] += count\n",
    "    return users\n",
    "\n",
    "if __name__ == '__main__' :\n",
    "    split_list(in_file)\n",
    "\n"
   ]
  },
  {
   "cell_type": "code",
   "execution_count": null,
   "id": "25485e18",
   "metadata": {},
   "outputs": [],
   "source": []
  }
 ],
 "metadata": {
  "kernelspec": {
   "display_name": "base",
   "language": "python",
   "name": "python3"
  },
  "language_info": {
   "codemirror_mode": {
    "name": "ipython",
    "version": 3
   },
   "file_extension": ".py",
   "mimetype": "text/x-python",
   "name": "python",
   "nbconvert_exporter": "python",
   "pygments_lexer": "ipython3",
   "version": "3.11.8"
  }
 },
 "nbformat": 4,
 "nbformat_minor": 5
}
