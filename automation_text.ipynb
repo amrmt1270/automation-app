{
 "cells": [
  {
   "cell_type": "code",
   "execution_count": 2,
   "metadata": {},
   "outputs": [],
   "source": [
    "import openpyxl as excel"
   ]
  },
  {
   "cell_type": "code",
   "execution_count": null,
   "metadata": {},
   "outputs": [],
   "source": [
    "#ワークブックの作成\n",
    "book = excel.Workbook()\n",
    "#アクティブなシートを得る\n",
    "sheet = book.active\n",
    "#A1のセルに値を代入\n",
    "sheet['A1'] = 'こんにちは'\n",
    "#hello.xlxsとして保存\n",
    "book.save('hello.xlsx')\n"
   ]
  },
  {
   "cell_type": "code",
   "execution_count": 4,
   "metadata": {},
   "outputs": [
    {
     "name": "stdout",
     "output_type": "stream",
     "text": [
      "こんにちは\n"
     ]
    }
   ],
   "source": [
    "#エクセルワークブックの読み込み\n",
    "book = excel.load_workbook('hello.xlsx')\n",
    "#先頭のワークシートを取り出す\n",
    "sheet = book.worksheets[0]\n",
    "#A1セルの値を得る\n",
    "cell = sheet['A1']\n",
    "print(cell.value)"
   ]
  },
  {
   "cell_type": "code",
   "execution_count": null,
   "metadata": {},
   "outputs": [],
   "source": []
  }
 ],
 "metadata": {
  "kernelspec": {
   "display_name": "base",
   "language": "python",
   "name": "python3"
  },
  "language_info": {
   "codemirror_mode": {
    "name": "ipython",
    "version": 3
   },
   "file_extension": ".py",
   "mimetype": "text/x-python",
   "name": "python",
   "nbconvert_exporter": "python",
   "pygments_lexer": "ipython3",
   "version": "3.11.8"
  }
 },
 "nbformat": 4,
 "nbformat_minor": 2
}
