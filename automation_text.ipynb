{
 "cells": [
  {
   "cell_type": "code",
   "execution_count": 1,
   "metadata": {},
   "outputs": [],
   "source": [
    "import openpyxl as excel"
   ]
  },
  {
   "cell_type": "code",
   "execution_count": null,
   "metadata": {},
   "outputs": [],
   "source": [
    "#ワークブックの作成\n",
    "book = excel.Workbook()\n",
    "#アクティブなシートを得る\n",
    "sheet = book.active\n",
    "#A1のセルに値を代入\n",
    "sheet['A1'] = 'こんにちは'\n",
    "#hello.xlxsとして保存\n",
    "book.save('hello.xlsx')\n"
   ]
  },
  {
   "cell_type": "code",
   "execution_count": 4,
   "metadata": {},
   "outputs": [
    {
     "name": "stdout",
     "output_type": "stream",
     "text": [
      "こんにちは\n"
     ]
    }
   ],
   "source": [
    "#エクセルワークブックの読み込み\n",
    "book = excel.load_workbook('hello.xlsx')\n",
    "#先頭のワークシートを取り出す\n",
    "sheet = book.worksheets[0]\n",
    "#A1セルの値を得る\n",
    "cell = sheet['A1']\n",
    "print(cell.value)"
   ]
  },
  {
   "cell_type": "code",
   "execution_count": 2,
   "metadata": {},
   "outputs": [],
   "source": [
    "#ワークブックを生成\n",
    "book = excel.Workbook()\n",
    "#ワークブックを取得\n",
    "sheet = book.active\n",
    "#A1に値を書き込む\n",
    "sheet['A1'] = '勤勉な人は必ず成功する'\n",
    "#A2(row = 2,column = 1)に値を書き込む \n",
    "sheet.cell(row = 2, column = 1, value = '猿の尻笑い')\n",
    "#A3(row = 3, column = 1)に値を書き込む\n",
    "cell = sheet.cell(row = 3, column = 1)\n",
    "cell.value = '捜すのに時があり諦めるのに時がある'\n",
    "#ワークブックを保存\n",
    "book.save('cell_w.xlsx')"
   ]
  },
  {
   "cell_type": "code",
   "execution_count": 4,
   "metadata": {},
   "outputs": [],
   "source": [
    "book =excel.Workbook()\n",
    "sheet = book.active\n",
    "for i in range(10):\n",
    "    sheet.cell(row = (i+1), column = 1, value = i)\n",
    "book.save('renzoku.xlsx')"
   ]
  },
  {
   "cell_type": "code",
   "execution_count": 5,
   "metadata": {},
   "outputs": [],
   "source": [
    "book = excel.Workbook()\n",
    "sheet = book.active\n",
    "for i in range(1, 10):\n",
    "    for j in range(1, 10):\n",
    "        sheet.cell(row = i, column = j, value = i * j)\n",
    "book.save('9x9.xlsx')"
   ]
  },
  {
   "cell_type": "code",
   "execution_count": 6,
   "metadata": {},
   "outputs": [],
   "source": [
    "book = excel.Workbook()\n",
    "sheet = book.active\n",
    "for i in range(1,21):\n",
    "    for j in range(1,21):\n",
    "        sheet.cell(row = i, column = j, value = i * j)\n",
    "book.save('20x20.xlsx')"
   ]
  },
  {
   "cell_type": "code",
   "execution_count": 7,
   "metadata": {},
   "outputs": [],
   "source": [
    "book = excel.Workbook()\n",
    "sheet = book.active\n",
    "for i in range(1, 101):\n",
    "    for j in range(1, 101):\n",
    "        cell = sheet.cell(row = i, column = j)\n",
    "        cell.value = cell.coordinate\n",
    "book.save('test100.xlsx')"
   ]
  },
  {
   "cell_type": "code",
   "execution_count": 9,
   "metadata": {},
   "outputs": [],
   "source": [
    "import openpyxl as excel\n",
    "import datetime\n",
    "\n",
    "book = excel.Workbook()\n",
    "sheet = book.active\n",
    "\n",
    "thisyear = datetime.date.today().year\n",
    "\n",
    "for i in range(81):\n",
    "    age = i\n",
    "    birth_year = thisyear - age\n",
    "    cell1 = sheet.cell(row = i+1, column = 1)\n",
    "    cell1.value = str(age) + '歳'\n",
    "    cell2 = sheet.cell(row = i+1, column = 2)\n",
    "    cell2.value = str(birth_year) + '歳'\n",
    "book.save('age_list.xlsx')\n"
   ]
  },
  {
   "cell_type": "code",
   "execution_count": 11,
   "metadata": {},
   "outputs": [],
   "source": [
    "book = excel.Workbook()\n",
    "sheet = book.active\n",
    "\n",
    "base_year = datetime.date.today().year -15\n",
    "\n",
    "for i in range(50):\n",
    "    year = base_year + i\n",
    "    s1 = year - 7\n",
    "    s2 = year - 6\n",
    "    sf = '{}年4/2から{}年4/1に生まれた人'.format(s1,s2)\n",
    "    sheet.cell(row = i + 1, column = 1, value = str(year) + '年度')\n",
    "    sheet.cell(row = i + 1, column = 2, value = sf)\n",
    "\n",
    "book.save('nyuugaku_list.xlsx')\n"
   ]
  },
  {
   "cell_type": "code",
   "execution_count": null,
   "metadata": {},
   "outputs": [],
   "source": [
    "#この関数部分はexcelの標準搭載の関数を利用することも可能\n",
    "def seireki_to_wareki(year):\n",
    "    wareki_table = [{'name': '明治','start': 1868, 'end' : 1912},\n",
    "                {'name':'大正', 'start': 1912, 'end' : 1926},\n",
    "                {'name':'昭和', 'start': 1926, 'end' : 1989},\n",
    "                {'name': '平成', 'start': 1989, 'end': 2019},\n",
    "                {'name': '令和', 'start' : 2019, 'end':9999}]\n",
    "    for w in  wareki_table:\n",
    "        start_y = w['start']\n",
    "        end_y = w['end']\n",
    "        if start_y <= year < end_y:\n",
    "            y = w['name'] + str(year - start_y + 1) + '年'\n",
    "            return y\n",
    "    return '不明'\n",
    "\n",
    "book = excel.Workbook()\n",
    "sheet = book.active\n",
    "sheet['A1'] = '西暦'\n",
    "sheet['B1'] = '和暦'\n",
    "\n",
    "start_year = 1930\n",
    "end_year = datetime.date.today().year\n",
    "for y in range(start_year, end_year + 1):\n",
    "    cell1 = sheet.cell(row = y - start_year + 2, column = 1)\n",
    "    cell1.value = str(y) + '年'\n",
    "    cell2 = sheet.cell(row = y - start_year + 2, column = 2)\n",
    "    cell2.value = seireki_to_wareki(y)\n",
    "\n",
    "book.save('seireki_to_wareki.xlsx')"
   ]
  },
  {
   "cell_type": "code",
   "execution_count": 22,
   "metadata": {},
   "outputs": [
    {
     "name": "stdout",
     "output_type": "stream",
     "text": [
      "H2\n",
      "H2\n"
     ]
    }
   ],
   "source": [
    "import openpyxl as excel\n",
    "book = excel.load_workbook('/Users/fall_f/Desktop/automation_app/xlsx file/test100.xlsx')\n",
    "sheet = book.active\n",
    "print(sheet['H2'].value)\n",
    "cell = sheet.cell(row = 2, column = 8)\n",
    "print(cell.value)"
   ]
  },
  {
   "cell_type": "code",
   "execution_count": 25,
   "metadata": {},
   "outputs": [
    {
     "name": "stdout",
     "output_type": "stream",
     "text": [
      "['B2', 'B3', 'B4']\n",
      "['C2', 'C3', 'C4']\n",
      "['D2', 'D3', 'D4']\n"
     ]
    }
   ],
   "source": [
    "for i in range(2,5):\n",
    "    r = []\n",
    "    for j in range(2, 5):\n",
    "        v = sheet.cell(row = j, column = i).value\n",
    "        r.append(v)\n",
    "    print(r)"
   ]
  },
  {
   "cell_type": "code",
   "execution_count": 26,
   "metadata": {},
   "outputs": [
    {
     "name": "stdout",
     "output_type": "stream",
     "text": [
      "['B2', 'C2', 'D2']\n",
      "['B3', 'C3', 'D3']\n",
      "['B4', 'C4', 'D4']\n"
     ]
    }
   ],
   "source": [
    "for raw in sheet['B2' : 'D4']:\n",
    "    r = []\n",
    "    for cell in raw:\n",
    "        r.append(cell.value)\n",
    "    print(r)"
   ]
  },
  {
   "cell_type": "code",
   "execution_count": null,
   "metadata": {},
   "outputs": [
    {
     "name": "stdout",
     "output_type": "stream",
     "text": [
      "[datetime.datetime(2020, 3, 3, 0, 0), '鈴木太郎', 'バナナ', 3, 1000, 3000]\n",
      "[datetime.datetime(2020, 3, 5, 0, 0), '伊藤次郎', 'リンゴ', 2, 1500, 3000]\n",
      "[datetime.datetime(2020, 3, 5, 0, 0), '西川三郎', 'イチゴ', 2, 2000, 4000]\n",
      "[datetime.datetime(2020, 3, 7, 0, 0), '山田史朗', 'バナナ', 8, 1000, 8000]\n",
      "[datetime.datetime(2020, 3, 15, 0, 0), '伊藤次郎', 'リンゴ', 2, 1500, 3000]\n",
      "[datetime.datetime(2020, 3, 16, 0, 0), '山田史朗', 'イチゴ', 5, 2000, 10000]\n",
      "[datetime.datetime(2020, 3, 20, 0, 0), '山下五郎', 'マンゴー', 3, 1900, 5700]\n"
     ]
    }
   ],
   "source": [
    "book = excel.load_workbook('/Users/fall_f/Desktop/automation_app/xlsx file/uriage.xlsx'\n",
    "                           ,data_only = True)\n",
    "sheet = book.active\n",
    "for i in range(3, 5000):\n",
    "    r = []\n",
    "    for j in range(1,7):\n",
    "        cell = sheet.cell(row = i, column = j)\n",
    "        v = cell.value\n",
    "        r.append(v)\n",
    "    if r[0] is None:\n",
    "        break\n",
    "    print(r)"
   ]
  },
  {
   "cell_type": "code",
   "execution_count": 42,
   "metadata": {},
   "outputs": [
    {
     "name": "stdout",
     "output_type": "stream",
     "text": [
      "ok, atari =  10\n"
     ]
    }
   ],
   "source": [
    "import random\n",
    "random_value = random.randint(1,100)\n",
    "\n",
    "book = excel.Workbook()\n",
    "book.active['B2'] = '当たりが書かれたシートを探そう'\n",
    "\n",
    "for i in range(1,101):\n",
    "    sname = str(i) + '番'\n",
    "    sheet = book.create_sheet(title = sname)\n",
    "    word = 'ハズレ'\n",
    "    if i == random_value:\n",
    "        word = '当たり'\n",
    "    for i in range(50):\n",
    "        for j in range(30):\n",
    "            cell = sheet.cell(i+1, j+1)\n",
    "            cell.value = word\n",
    "\n",
    "book.save('game100.xlsx')\n",
    "print('ok, atari = ', random_value)"
   ]
  },
  {
   "cell_type": "code",
   "execution_count": 52,
   "metadata": {},
   "outputs": [
    {
     "name": "stdout",
     "output_type": "stream",
     "text": [
      "[['名前', '住所', '購入プラン'], ['古田 みき', '名古屋市', 'A'], ['山中 武雄', '横浜市', 'B'], ['浅野 雅紀', '名古屋市', 'C'], ['児玉 次郎', '横浜市', 'D'], ['天野 嘉人', '名古屋市', 'A'], ['東 太陽', '横浜市', 'B'], ['榊原 博貴', '名古屋市', 'D'], ['小西 博', '横浜市', 'D'], ['原口 雅刀', '名古屋市', 'B'], ['篠崎 良純', '横浜市', 'C'], ['小池 力也', '名古屋市', 'D'], ['鶴田 俊大', '横浜市', 'D'], ['松尾 晴彦', '名古屋市', 'B'], ['木村 一平', '横浜市', 'C'], ['中嶋 幹二', '名古屋市', 'D'], ['三好 哲也', '横浜市', 'A'], ['林 勇希', '名古屋市', 'C'], ['小笠原 信', '横浜市', 'C'], ['下村 純一', '名古屋市', 'D']]\n"
     ]
    }
   ],
   "source": [
    "book = excel.load_workbook('/Users/fall_f/Desktop/automation_app/xlsx file/all-customer.xlsx')\n",
    "sheet = book['名簿']\n",
    "customers = [['名前', '住所', '購入プラン']]\n",
    "\n",
    "for i in range(3, 1000):\n",
    "    r = []\n",
    "    for j in range(1, 4):\n",
    "        cell = sheet.cell(row = i, column = j)\n",
    "        v = cell.value\n",
    "        r.append(v)\n",
    "    if r[0] is None:\n",
    "        break\n",
    "    if r[1] == '横浜市' or r[1] == '名古屋市':\n",
    "        customers.append(r)\n",
    "print(customers)\n",
    "\n",
    "new_book = excel.Workbook()\n",
    "new_sheet = new_book.active\n",
    "new_sheet['A1'] = '横浜市と名古屋市の購入者プラン'\n",
    "\n",
    "for i in range(1, len(customers)+1):\n",
    "    for j in range(1,4):\n",
    "        cell = new_sheet.cell(row = i+1, column = j)\n",
    "        cell.value  = customers[i-1][j-1]\n",
    "\n",
    "new_book.save('yokohama_nagoya.xlsx')"
   ]
  },
  {
   "cell_type": "code",
   "execution_count": null,
   "metadata": {},
   "outputs": [],
   "source": []
  }
 ],
 "metadata": {
  "kernelspec": {
   "display_name": "base",
   "language": "python",
   "name": "python3"
  },
  "language_info": {
   "codemirror_mode": {
    "name": "ipython",
    "version": 3
   },
   "file_extension": ".py",
   "mimetype": "text/x-python",
   "name": "python",
   "nbconvert_exporter": "python",
   "pygments_lexer": "ipython3",
   "version": "3.11.8"
  }
 },
 "nbformat": 4,
 "nbformat_minor": 2
}
